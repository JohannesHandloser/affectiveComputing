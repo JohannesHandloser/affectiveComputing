{
 "cells": [
  {
   "cell_type": "code",
   "execution_count": 1,
   "metadata": {
    "collapsed": true
   },
   "outputs": [],
   "source": [
    "# diese Klasse muss importiert werde um Zugriff auf den Dataframe zu haben\n",
    "from helper.data_handler import *\n",
    "#Mithilfe des StandardScaler können die features normalisiert werden (scaled und centered)\n",
    "from sklearn.preprocessing import StandardScaler\n",
    "# bibliothek zum plotten von grafiken\n",
    "import matplotlib.pyplot as plt"
   ]
  },
  {
   "cell_type": "code",
   "execution_count": 2,
   "metadata": {
    "collapsed": true
   },
   "outputs": [],
   "source": [
    "data_handler = DataHandler(\"all\", True, \"20171216\")\n",
    "# ebenfalls möglich data_handler = DataHandler(\"all\", True, \"20171216\")\n",
    "# dies würde daten aller User in data und target frame aufteilen usw.\n",
    "\n",
    "# data_handler = DataHandler(\"zarok01\", False) würde keine\n",
    "# dies würde daten mit leerem target_frame erzeugen\n",
    "\n",
    "#dies ist der data_frame mit trainingsdaten bei angabe eines tages bzw. ALLEN Daten bei daily_target = False\n",
    "data_frame = data_handler.data_frame\n",
    "#dies ist die training_data: Bei daily_target = False bzw daily_target = True und keiner Tagesangabe nicht vorhanden\n",
    "test_data = data_handler.test_data\n",
    "\n",
    "# dies splittet die trainingsdaten in feautres(HBR, skin_temp,.....) und target (RecommendedAct)\n",
    "data_only = data_frame.iloc[:, :16]\n",
    "label = data_frame.iloc[:, 16:]\n",
    "\n",
    "test_data_only = test_data.iloc[:, :16]\n",
    "test_label = test_data.iloc[:, 16:]"
   ]
  },
  {
   "cell_type": "code",
   "execution_count": 3,
   "metadata": {},
   "outputs": [
    {
     "data": {
      "text/plain": [
       "1    87550\n",
       "0    75813\n",
       "Name: RecommendedAct, dtype: int64"
      ]
     },
     "execution_count": 3,
     "metadata": {},
     "output_type": "execute_result"
    }
   ],
   "source": [
    "data_frame[\"RecommendedAct\"].value_counts()"
   ]
  },
  {
   "cell_type": "code",
   "execution_count": 4,
   "metadata": {},
   "outputs": [
    {
     "data": {
      "text/plain": [
       "1    4464\n",
       "0    2462\n",
       "Name: RecommendedAct, dtype: int64"
      ]
     },
     "execution_count": 4,
     "metadata": {},
     "output_type": "execute_result"
    }
   ],
   "source": [
    "test_data[\"RecommendedAct\"].value_counts()"
   ]
  },
  {
   "cell_type": "code",
   "execution_count": 5,
   "metadata": {
    "collapsed": true
   },
   "outputs": [],
   "source": [
    "standardized_data = pd.DataFrame(StandardScaler().fit_transform(data_only))\n",
    "standardized_test_data = pd.DataFrame(StandardScaler().fit_transform(test_data_only))"
   ]
  },
  {
   "cell_type": "code",
   "execution_count": 6,
   "metadata": {
    "collapsed": true
   },
   "outputs": [],
   "source": [
    "standardized_data.columns = [\"M(GSR_Res)\", \"Std(GSR_Res)\", \"M(HBR)\", \"Std(HBR)\", \"M(RR)\", \"Std(RR)\", \\\n",
    "                                   \"M(Motion)\", \"Std(Motion)\", \"M(ST)\", \"Std(ST)\", \"MHR(RR)\", \"MRRI(RR)\", \"NN50(RR)\", \\\n",
    "                                   \"PNN50(RR)\", \"RMSSD(RR)\", \"SDNN(RR)\"]\n",
    "standardized_test_data.columns = [\"M(GSR_Res)\", \"Std(GSR_Res)\", \"M(HBR)\", \"Std(HBR)\", \"M(RR)\", \"Std(RR)\", \\\n",
    "                                   \"M(Motion)\", \"Std(Motion)\", \"M(ST)\", \"Std(ST)\", \"MHR(RR)\", \"MRRI(RR)\", \"NN50(RR)\", \\\n",
    "                                   \"PNN50(RR)\", \"RMSSD(RR)\", \"SDNN(RR)\"]"
   ]
  },
  {
   "cell_type": "code",
   "execution_count": 7,
   "metadata": {},
   "outputs": [
    {
     "name": "stderr",
     "output_type": "stream",
     "text": [
      "/Users/Shared/anaconda/anaconda/lib/python3.6/site-packages/ipykernel_launcher.py:4: DataConversionWarning: A column-vector y was passed when a 1d array was expected. Please change the shape of y to (n_samples,), for example using ravel().\n",
      "  after removing the cwd from sys.path.\n"
     ]
    },
    {
     "name": "stdout",
     "output_type": "stream",
     "text": [
      "The R^2 score for RecommendedAct is: 0.5916835114062952\n"
     ]
    }
   ],
   "source": [
    "from sklearn.ensemble import RandomForestClassifier\n",
    "\n",
    "forest = RandomForestClassifier(max_depth=15, n_estimators=20, random_state=42)\n",
    "forest.fit(standardized_data, label)\n",
    "\n",
    "scores = forest.score(test_data_only,test_label)\n",
    "print (\"The R^2 score for RecommendedAct is: {}\" .format(scores))"
   ]
  },
  {
   "cell_type": "code",
   "execution_count": null,
   "metadata": {
    "collapsed": true
   },
   "outputs": [],
   "source": []
  },
  {
   "cell_type": "code",
   "execution_count": null,
   "metadata": {
    "collapsed": true
   },
   "outputs": [],
   "source": []
  }
 ],
 "metadata": {
  "kernelspec": {
   "display_name": "Python 3",
   "language": "python",
   "name": "python3"
  },
  "language_info": {
   "codemirror_mode": {
    "name": "ipython",
    "version": 3
   },
   "file_extension": ".py",
   "mimetype": "text/x-python",
   "name": "python",
   "nbconvert_exporter": "python",
   "pygments_lexer": "ipython3",
   "version": "3.6.1"
  }
 },
 "nbformat": 4,
 "nbformat_minor": 2
}
