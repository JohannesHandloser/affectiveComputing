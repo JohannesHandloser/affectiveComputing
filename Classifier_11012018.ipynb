{
 "cells": [
  {
   "cell_type": "code",
   "execution_count": 1,
   "metadata": {
    "collapsed": true
   },
   "outputs": [],
   "source": [
    "# diese Klasse muss importiert werde um Zugriff auf den Dataframe zu haben\n",
    "from helper.data_handler import *\n",
    "#Mithilfe des StandardScaler können die features normalisiert werden (scaled und centered)\n",
    "from sklearn.preprocessing import StandardScaler\n",
    "# bibliothek zum plotten von grafiken\n",
    "import matplotlib.pyplot as plt"
   ]
  },
  {
   "cell_type": "code",
   "execution_count": 2,
   "metadata": {
    "collapsed": true
   },
   "outputs": [],
   "source": [
    "data_handler = DataHandler(\"zarok01\", False)\n",
    "\n",
    "data_frame = data_handler.data_frame\n",
    "\n",
    "# dies splittet die trainingsdaten in feautres(HBR, skin_temp,.....) und target (RecommendedAct)\n",
    "data_only = data_frame.iloc[:, :16]\n",
    "label = data_frame.iloc[:, 16:]"
   ]
  },
  {
   "cell_type": "code",
   "execution_count": 3,
   "metadata": {},
   "outputs": [
    {
     "data": {
      "text/plain": [
       "0    15331\n",
       "1    11750\n",
       "Name: RecommendedAct, dtype: int64"
      ]
     },
     "execution_count": 3,
     "metadata": {},
     "output_type": "execute_result"
    }
   ],
   "source": [
    "data_frame[\"RecommendedAct\"].value_counts()"
   ]
  },
  {
   "cell_type": "code",
   "execution_count": 4,
   "metadata": {
    "collapsed": true
   },
   "outputs": [],
   "source": [
    "data_only = data_frame.iloc[:, :16]\n",
    "label = data_frame.iloc[:, 16:]\n",
    "\n"
   ]
  },
  {
   "cell_type": "code",
   "execution_count": 5,
   "metadata": {
    "collapsed": true
   },
   "outputs": [],
   "source": [
    "from sklearn.preprocessing import StandardScaler\n",
    "standardized_data = pd.DataFrame(StandardScaler().fit_transform(data_only))"
   ]
  },
  {
   "cell_type": "code",
   "execution_count": 6,
   "metadata": {
    "collapsed": true
   },
   "outputs": [],
   "source": [
    "standardized_data.columns = [\"M(GSR_Res)\", \"Std(GSR_Res)\", \"M(HBR)\", \"Std(HBR)\", \"M(RR)\", \"Std(RR)\", \\\n",
    "                                   \"M(Motion)\", \"Std(Motion)\", \"M(ST)\", \"Std(ST)\", \"MHR(RR)\", \"MRRI(RR)\", \"NN50(RR)\", \\\n",
    "                                   \"PNN50(RR)\", \"RMSSD(RR)\", \"SDNN(RR)\"]\n",
    "\n",
    "\n"
   ]
  },
  {
   "cell_type": "code",
   "execution_count": 7,
   "metadata": {},
   "outputs": [],
   "source": [
    "data_without_st = standardized_data.drop([\"M(ST)\"], axis = 1, inplace = False)"
   ]
  },
  {
   "cell_type": "code",
   "execution_count": null,
   "metadata": {},
   "outputs": [],
   "source": [
    "data_without_st"
   ]
  },
  {
   "cell_type": "code",
   "execution_count": 8,
   "metadata": {},
   "outputs": [
    {
     "data": {
      "text/plain": [
       "'dat_tree.pdf'"
      ]
     },
     "execution_count": 8,
     "metadata": {},
     "output_type": "execute_result"
    }
   ],
   "source": [
    "from sklearn import tree\n",
    "import graphviz \n",
    "\n",
    "\n",
    "clf = tree.DecisionTreeClassifier(min_samples_split=800)\n",
    "clf = clf.fit(data_without_st, label)\n",
    "\n",
    "dot_data = tree.export_graphviz(clf, out_file=None, \n",
    "                         feature_names = data_without_st.columns,\n",
    "                         filled=True) \n",
    "graph = graphviz.Source(dot_data) \n",
    "graph.render(\"dat_tree\")"
   ]
  },
  {
   "cell_type": "code",
   "execution_count": 9,
   "metadata": {},
   "outputs": [
    {
     "name": "stderr",
     "output_type": "stream",
     "text": [
      "/Users/Shared/anaconda/anaconda/lib/python3.6/site-packages/ipykernel_launcher.py:8: DataConversionWarning: A column-vector y was passed when a 1d array was expected. Please change the shape of y to (n_samples,), for example using ravel().\n",
      "  \n"
     ]
    },
    {
     "name": "stdout",
     "output_type": "stream",
     "text": [
      "Feature ranking:\n",
      "1. feature 0 (0.360864)\n",
      "2. feature 2 (0.125405)\n",
      "3. feature 1 (0.081482)\n",
      "4. feature 9 (0.060164)\n",
      "5. feature 13 (0.059579)\n",
      "6. feature 4 (0.053761)\n",
      "7. feature 10 (0.051068)\n",
      "8. feature 14 (0.051055)\n",
      "9. feature 5 (0.045365)\n",
      "10. feature 3 (0.040265)\n",
      "11. feature 6 (0.025124)\n",
      "12. feature 12 (0.015330)\n",
      "13. feature 11 (0.014779)\n",
      "14. feature 8 (0.014426)\n",
      "15. feature 7 (0.001334)\n"
     ]
    }
   ],
   "source": [
    "from sklearn.ensemble import RandomForestClassifier\n",
    "from sklearn.model_selection import train_test_split\n",
    "import numpy as np\n",
    "\n",
    "X_train, X_test, y_train, y_test = train_test_split(data_without_st, label, test_size=0.25)\n",
    "\n",
    "clf = RandomForestClassifier(max_depth=15, n_estimators=20, random_state=42)\n",
    "clf.fit(X_train,y_train)\n",
    "\n",
    "importances = clf.feature_importances_\n",
    "\n",
    "std = np.std([tree.feature_importances_ for tree in clf.estimators_],\n",
    "             axis=0)\n",
    "indices = np.argsort(importances)[::-1]\n",
    "\n",
    "# Print the feature ranking\n",
    "print(\"Feature ranking:\")\n",
    "for f in range(X_test.shape[1]):\n",
    "    print(\"%d. feature %d (%f)\" % (f + 1, indices[f], importances[indices[f]]))\n"
   ]
  },
  {
   "cell_type": "code",
   "execution_count": 12,
   "metadata": {},
   "outputs": [
    {
     "data": {
      "image/png": "[encoded data removed]",
      "text/plain": [
       "<matplotlib.figure.Figure at 0x11b950a20>"
      ]
     },
     "metadata": {},
     "output_type": "display_data"
    }
   ],
   "source": [
    "import matplotlib.pyplot as plt\n",
    "\n",
    "\n",
    "plt.title(\"Feature importances\")\n",
    "plt.bar(range(X_test.shape[1]), importances[indices],\n",
    "       color=\"r\", yerr=std[indices], align=\"center\")\n",
    "plt.xticks(range(X_test.shape[1]), indices)\n",
    "plt.xlim([-1, X_test.shape[1]])\n",
    "plt.rcParams[\"figure.figsize\"] = (20,10)\n",
    "plt.show()"
   ]
  },
  {
   "cell_type": "code",
   "execution_count": 11,
   "metadata": {},
   "outputs": [
    {
     "name": "stdout",
     "output_type": "stream",
     "text": [
      "The R^2 score for RecommendedAct is: 0.9174420321961305\n"
     ]
    }
   ],
   "source": [
    "scores = clf.score(X_test,y_test)\n",
    "print (\"The R^2 score for RecommendedAct is: {}\" .format(scores))"
   ]
  },
  {
   "cell_type": "code",
   "execution_count": null,
   "metadata": {
    "collapsed": true
   },
   "outputs": [],
   "source": []
  }
 ],
 "metadata": {
  "kernelspec": {
   "display_name": "Python 3",
   "language": "python",
   "name": "python3"
  },
  "language_info": {
   "codemirror_mode": {
    "name": "ipython",
    "version": 3
   },
   "file_extension": ".py",
   "mimetype": "text/x-python",
   "name": "python",
   "nbconvert_exporter": "python",
   "pygments_lexer": "ipython3",
   "version": "3.6.1"
  }
 },
 "nbformat": 4,
 "nbformat_minor": 2
}
