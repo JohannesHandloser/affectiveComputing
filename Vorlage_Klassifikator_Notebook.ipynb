{
 "cells": [
  {
   "cell_type": "code",
   "execution_count": null,
   "metadata": {
    "collapsed": true
   },
   "outputs": [],
   "source": [
    "# diese Klasse muss importiert werde um Zugriff auf den Dataframe zu haben\n",
    "from helper.data_handler import *\n",
    "#Mithilfe des StandardScaler können die features normalisiert werden (scaled und centered)\n",
    "from sklearn.preprocessing import StandardScaler\n",
    "# bibliothek zum plotten von grafiken\n",
    "import matplotlib.pyplot as plt"
   ]
  },
  {
   "cell_type": "code",
   "execution_count": null,
   "metadata": {
    "collapsed": true
   },
   "outputs": [],
   "source": [
    "# das data_handler Objekt erzeugt die Dataframes basierend auf der Eingabe\n",
    "# 1.Parameter = User (all, zarok01, punky_2002, 11127020586, 1162656792)\n",
    "# 2.Parameter = daily_target (True, False) => gibt an ob ein seperater target_frame\n",
    "#mit target_data von einem tag erstellt werden soll\n",
    "# 3.Parameter = day_string (bsp: 20171130, 20171205, 20171216) gibt an von welchem tag ein target_frame ertellt \n",
    "#werden soll\n",
    "data_handler = DataHandler(\"zarok01\", True, \"20171216\")\n",
    "# ebenfalls möglich data_handler = DataHandler(\"all\", True, \"20171216\")\n",
    "# dies würde daten aller User in data und target frame aufteilen usw.\n",
    "\n",
    "# data_handler = DataHandler(\"zarok01\", False) würde keine\n",
    "# dies würde daten mit leerem target_frame erzeugen\n",
    "\n",
    "#dies ist der data_frame mit trainingsdaten bei angabe eines tages bzw. ALLEN Daten bei daily_target = False\n",
    "data_frame = data_handler.data_frame\n",
    "#dies ist die training_data: Bei daily_target = False bzw daily_target = True und keiner Tagesangabe nicht vorhanden\n",
    "test_data = data_handler.test_data\n",
    "\n",
    "# dies splittet die trainingsdaten in feautres(HBR, skin_temp,.....) und target (RecommendedAct)\n",
    "data_only = data_frame.iloc[:, :16]\n",
    "label = data_frame.iloc[:, 16:]\n",
    "\n",
    "# analoges sollte mit testdaten auf tage gemacht werden, falls diese vorhanden sind\n",
    "#test_data_only = test_data.iloc[:, :16]\n",
    "#test_label = test_data.iloc[:, 16:]\n",
    "\n",
    "\n",
    "\n"
   ]
  },
  {
   "cell_type": "code",
   "execution_count": null,
   "metadata": {
    "collapsed": true
   },
   "outputs": [],
   "source": []
  }
 ],
 "metadata": {
  "kernelspec": {
   "display_name": "Python 3",
   "language": "python",
   "name": "python3"
  },
  "language_info": {
   "codemirror_mode": {
    "name": "ipython",
    "version": 3
   },
   "file_extension": ".py",
   "mimetype": "text/x-python",
   "name": "python",
   "nbconvert_exporter": "python",
   "pygments_lexer": "ipython3",
   "version": "3.6.1"
  }
 },
 "nbformat": 4,
 "nbformat_minor": 2
}
